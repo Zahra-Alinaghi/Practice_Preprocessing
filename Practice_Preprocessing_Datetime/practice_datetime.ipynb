{
 "cells": [
  {
   "cell_type": "markdown",
   "id": "f4ef1f1d",
   "metadata": {},
   "source": [
    "<!DOCTYPE html>\n",
    "<html lang=\"en\">\n",
    "<head>\n",
    "<meta charset=\"UTF-8\">\n",
    "<meta name=\"viewport\" content=\"width=device-width, initial-scale=1.0\">\n",
    "<style>\n",
    "    h1 {\n",
    "        line-height: 200%;\n",
    "        font-family: 'Comic Sans MS', cursive, sans-serif;\n",
    "        color: #ffb6c1; /* رنگ نارنجی پاستیلی */\n",
    "    }\n",
    "</style>\n",
    "</head>\n",
    "<body>\n",
    "    <h1>Zahra Alinaghipour</h1>\n",
    "</body>\n",
    "</html>\n"
   ]
  },
  {
   "cell_type": "markdown",
   "id": "bfe91c84",
   "metadata": {},
   "source": [
    "The data provided to you contains information about notifications sent to users' mobile phones.\n",
    "\n",
    "Each row of this dataframe indicates which notification, at what time, by which application, was sent to which user, and what the user's reaction was to it.\n",
    "\n",
    "In the table below, we examine the data columns available in the file <code>notifications.csv</code>."
   ]
  },
  {
   "attachments": {},
   "cell_type": "markdown",
   "id": "8c48b422",
   "metadata": {},
   "source": [
    "<div dir=rtl style=\"direction: rtl;text-align: right;line-height:200%;font-family:vazir;font-size:medium\">\n",
    "<font face=\"vazir\" size=3>\n",
    "<center>\n",
    "\n",
    "| Column | Description |\n",
    "|:-----------:|:------:|\n",
    "| action |Click (<code>C</code>), Dismiss (<code>F</code>)|\n",
    "| application_id |Application ID|\n",
    "| interaction_time |Time of notification receipt|\n",
    "| notification_id | Notification ID|\n",
    "| user_id | User ID|\n",
    "\n",
    "</center>\n",
    "</font>\n",
    "</div>"
   ]
  },
  {
   "cell_type": "markdown",
   "id": "c55d52be",
   "metadata": {},
   "source": [
    "<span color=\"purple\"><b>Note:</b></span>\n",
    "The number in the <code>interaction_time</code> column is in seconds. This number indicates how many seconds have passed since <b>2019/6/1</b>.\n",
    "For example, a time of 5258700 means 5258700 seconds have passed since 2019/6/1."
   ]
  },
  {
   "cell_type": "markdown",
   "id": "8b932b62",
   "metadata": {},
   "source": [
    "<font face=\"vazir\" color=\"#0099cc\">\n",
    "Section 1: Preprocessing\n",
    "</font>\n",
    "</h2>\n",
    "In this stage, you need to use the <code>interaction_time</code> column and the date <b>2019/6/1</b> to determine the date the notification was sent.\n",
    "\n",
    "Add the date the notification was sent as a new column named <code>date</code> to the dataframe. Below is an example of how to obtain the date, and it is expected that the date you derive will also be of type <code>datetime</code>."
   ]
  },
  {
   "cell_type": "code",
   "execution_count": 1,
   "id": "620704d2",
   "metadata": {},
   "outputs": [
    {
     "data": {
      "text/html": [
       "<div>\n",
       "<style scoped>\n",
       "    .dataframe tbody tr th:only-of-type {\n",
       "        vertical-align: middle;\n",
       "    }\n",
       "\n",
       "    .dataframe tbody tr th {\n",
       "        vertical-align: top;\n",
       "    }\n",
       "\n",
       "    .dataframe thead th {\n",
       "        text-align: right;\n",
       "    }\n",
       "</style>\n",
       "<table border=\"1\" class=\"dataframe\">\n",
       "  <thead>\n",
       "    <tr style=\"text-align: right;\">\n",
       "      <th></th>\n",
       "      <th>action</th>\n",
       "      <th>application_id</th>\n",
       "      <th>interaction_time</th>\n",
       "      <th>notification_id</th>\n",
       "      <th>user_id</th>\n",
       "    </tr>\n",
       "  </thead>\n",
       "  <tbody>\n",
       "    <tr>\n",
       "      <th>0</th>\n",
       "      <td>F</td>\n",
       "      <td>1</td>\n",
       "      <td>4489200</td>\n",
       "      <td>79</td>\n",
       "      <td>665</td>\n",
       "    </tr>\n",
       "    <tr>\n",
       "      <th>1</th>\n",
       "      <td>F</td>\n",
       "      <td>1</td>\n",
       "      <td>4489200</td>\n",
       "      <td>79</td>\n",
       "      <td>6280</td>\n",
       "    </tr>\n",
       "    <tr>\n",
       "      <th>2</th>\n",
       "      <td>F</td>\n",
       "      <td>1</td>\n",
       "      <td>4388400</td>\n",
       "      <td>78</td>\n",
       "      <td>14774</td>\n",
       "    </tr>\n",
       "    <tr>\n",
       "      <th>3</th>\n",
       "      <td>F</td>\n",
       "      <td>1</td>\n",
       "      <td>4410000</td>\n",
       "      <td>78</td>\n",
       "      <td>3152</td>\n",
       "    </tr>\n",
       "    <tr>\n",
       "      <th>4</th>\n",
       "      <td>C</td>\n",
       "      <td>1</td>\n",
       "      <td>4410000</td>\n",
       "      <td>72</td>\n",
       "      <td>3633</td>\n",
       "    </tr>\n",
       "    <tr>\n",
       "      <th>...</th>\n",
       "      <td>...</td>\n",
       "      <td>...</td>\n",
       "      <td>...</td>\n",
       "      <td>...</td>\n",
       "      <td>...</td>\n",
       "    </tr>\n",
       "    <tr>\n",
       "      <th>140723</th>\n",
       "      <td>F</td>\n",
       "      <td>0</td>\n",
       "      <td>993600</td>\n",
       "      <td>13</td>\n",
       "      <td>14760</td>\n",
       "    </tr>\n",
       "    <tr>\n",
       "      <th>140724</th>\n",
       "      <td>F</td>\n",
       "      <td>0</td>\n",
       "      <td>928800</td>\n",
       "      <td>13</td>\n",
       "      <td>2096</td>\n",
       "    </tr>\n",
       "    <tr>\n",
       "      <th>140725</th>\n",
       "      <td>F</td>\n",
       "      <td>0</td>\n",
       "      <td>900000</td>\n",
       "      <td>13</td>\n",
       "      <td>11308</td>\n",
       "    </tr>\n",
       "    <tr>\n",
       "      <th>140726</th>\n",
       "      <td>F</td>\n",
       "      <td>0</td>\n",
       "      <td>885600</td>\n",
       "      <td>13</td>\n",
       "      <td>5975</td>\n",
       "    </tr>\n",
       "    <tr>\n",
       "      <th>140727</th>\n",
       "      <td>F</td>\n",
       "      <td>0</td>\n",
       "      <td>907200</td>\n",
       "      <td>13</td>\n",
       "      <td>15272</td>\n",
       "    </tr>\n",
       "  </tbody>\n",
       "</table>\n",
       "<p>140728 rows × 5 columns</p>\n",
       "</div>"
      ],
      "text/plain": [
       "       action  application_id  interaction_time  notification_id  user_id\n",
       "0           F               1           4489200               79      665\n",
       "1           F               1           4489200               79     6280\n",
       "2           F               1           4388400               78    14774\n",
       "3           F               1           4410000               78     3152\n",
       "4           C               1           4410000               72     3633\n",
       "...       ...             ...               ...              ...      ...\n",
       "140723      F               0            993600               13    14760\n",
       "140724      F               0            928800               13     2096\n",
       "140725      F               0            900000               13    11308\n",
       "140726      F               0            885600               13     5975\n",
       "140727      F               0            907200               13    15272\n",
       "\n",
       "[140728 rows x 5 columns]"
      ]
     },
     "execution_count": 1,
     "metadata": {},
     "output_type": "execute_result"
    }
   ],
   "source": [
    "import pandas as pd\n",
    "# TODO: read csv file in df\n",
    "df = pd.read_csv('notifications_pushe.csv')\n",
    "df"
   ]
  },
  {
   "cell_type": "code",
   "execution_count": 2,
   "id": "523e6af1",
   "metadata": {},
   "outputs": [
    {
     "name": "stdout",
     "output_type": "stream",
     "text": [
      "<class 'pandas.core.frame.DataFrame'>\n",
      "RangeIndex: 140728 entries, 0 to 140727\n",
      "Data columns (total 5 columns):\n",
      " #   Column            Non-Null Count   Dtype \n",
      "---  ------            --------------   ----- \n",
      " 0   action            140728 non-null  object\n",
      " 1   application_id    140728 non-null  int64 \n",
      " 2   interaction_time  140728 non-null  int64 \n",
      " 3   notification_id   140728 non-null  int64 \n",
      " 4   user_id           140728 non-null  int64 \n",
      "dtypes: int64(4), object(1)\n",
      "memory usage: 5.4+ MB\n"
     ]
    }
   ],
   "source": [
    "df.info()"
   ]
  },
  {
   "cell_type": "code",
   "execution_count": 3,
   "id": "5a58787c",
   "metadata": {},
   "outputs": [
    {
     "data": {
      "text/html": [
       "<div>\n",
       "<style scoped>\n",
       "    .dataframe tbody tr th:only-of-type {\n",
       "        vertical-align: middle;\n",
       "    }\n",
       "\n",
       "    .dataframe tbody tr th {\n",
       "        vertical-align: top;\n",
       "    }\n",
       "\n",
       "    .dataframe thead th {\n",
       "        text-align: right;\n",
       "    }\n",
       "</style>\n",
       "<table border=\"1\" class=\"dataframe\">\n",
       "  <thead>\n",
       "    <tr style=\"text-align: right;\">\n",
       "      <th></th>\n",
       "      <th>action</th>\n",
       "      <th>application_id</th>\n",
       "      <th>interaction_time</th>\n",
       "      <th>notification_id</th>\n",
       "      <th>user_id</th>\n",
       "      <th>date</th>\n",
       "    </tr>\n",
       "  </thead>\n",
       "  <tbody>\n",
       "    <tr>\n",
       "      <th>0</th>\n",
       "      <td>F</td>\n",
       "      <td>1</td>\n",
       "      <td>4489200</td>\n",
       "      <td>79</td>\n",
       "      <td>665</td>\n",
       "      <td>2019-07-22 23:00:00</td>\n",
       "    </tr>\n",
       "    <tr>\n",
       "      <th>1</th>\n",
       "      <td>F</td>\n",
       "      <td>1</td>\n",
       "      <td>4489200</td>\n",
       "      <td>79</td>\n",
       "      <td>6280</td>\n",
       "      <td>2019-07-22 23:00:00</td>\n",
       "    </tr>\n",
       "    <tr>\n",
       "      <th>2</th>\n",
       "      <td>F</td>\n",
       "      <td>1</td>\n",
       "      <td>4388400</td>\n",
       "      <td>78</td>\n",
       "      <td>14774</td>\n",
       "      <td>2019-07-21 19:00:00</td>\n",
       "    </tr>\n",
       "    <tr>\n",
       "      <th>3</th>\n",
       "      <td>F</td>\n",
       "      <td>1</td>\n",
       "      <td>4410000</td>\n",
       "      <td>78</td>\n",
       "      <td>3152</td>\n",
       "      <td>2019-07-22 01:00:00</td>\n",
       "    </tr>\n",
       "    <tr>\n",
       "      <th>4</th>\n",
       "      <td>C</td>\n",
       "      <td>1</td>\n",
       "      <td>4410000</td>\n",
       "      <td>72</td>\n",
       "      <td>3633</td>\n",
       "      <td>2019-07-22 01:00:00</td>\n",
       "    </tr>\n",
       "  </tbody>\n",
       "</table>\n",
       "</div>"
      ],
      "text/plain": [
       "  action  application_id  interaction_time  notification_id  user_id  \\\n",
       "0      F               1           4489200               79      665   \n",
       "1      F               1           4489200               79     6280   \n",
       "2      F               1           4388400               78    14774   \n",
       "3      F               1           4410000               78     3152   \n",
       "4      C               1           4410000               72     3633   \n",
       "\n",
       "                 date  \n",
       "0 2019-07-22 23:00:00  \n",
       "1 2019-07-22 23:00:00  \n",
       "2 2019-07-21 19:00:00  \n",
       "3 2019-07-22 01:00:00  \n",
       "4 2019-07-22 01:00:00  "
      ]
     },
     "execution_count": 3,
     "metadata": {},
     "output_type": "execute_result"
    }
   ],
   "source": [
    "\n",
    "# TODO: calculate date and add it to dateframe as a new column\n",
    "import datetime \n",
    "from datetime import timedelta\n",
    "\n",
    "# Convert 'interaction_time' column from seconds to a datetime format relative to '2019-6-1'\n",
    "df['date'] = pd.to_datetime('2019-6-1') + pd.to_timedelta(df['interaction_time'], unit = 'seconds')\n",
    "df.head()"
   ]
  },
  {
   "cell_type": "markdown",
   "id": "29437e4a",
   "metadata": {},
   "source": [
    "<font face=\"vazir\" color=\"#0099cc\">\n",
    "Section 2: Application Analysis\n",
    "</font>\n",
    "</h2>\n",
    "In this section, we want to determine which application has been successful in sending notifications.\n",
    "\n",
    "For each application, calculate the click-through rate of its notifications. For example, if application number 10 has sent a total of 100 notifications, and 10 of those notifications have been clicked by users, the click-through rate for application number 10 would be 0.1. The most successful application is the one with the highest click-through rate for its notifications.\n",
    "\n",
    "Save the most successful application along with its click-through rate in a tuple named <code>tuple_appid_successrate</code>. The first element of the tuple should be the ID of the successful application, and the second element should be the click-through rate of its notifications.\n",
    "\n",
    "The numbers mentioned in the above example are arbitrary and randomly generated. Therefore, the answer you obtain may differ from these numbers."
   ]
  },
  {
   "cell_type": "code",
   "execution_count": 4,
   "id": "f93ae162",
   "metadata": {},
   "outputs": [
    {
     "data": {
      "text/plain": [
       "(1, 0.18529923416848293)"
      ]
     },
     "execution_count": 4,
     "metadata": {},
     "output_type": "execute_result"
    }
   ],
   "source": [
    "# TODO: find (app_id, success_rate)\n",
    "# Calculate success rate of notifications for each application_id\n",
    "c_success_rate = df[df['action'] == 'C'].groupby('application_id').size() / df.groupby('application_id').size()\n",
    "\n",
    "# Find the application_id with the highest success rate\n",
    "app_id = c_success_rate.idxmax()\n",
    "# Find the maximum success rate among all application_ids\n",
    "success_rate = c_success_rate.max()\n",
    "\n",
    "# Create a tuple containing the application_id with the highest success rate and its success rate\n",
    "tuple_appid_successrate = (app_id, success_rate)\n",
    "tuple_appid_successrate"
   ]
  },
  {
   "cell_type": "markdown",
   "id": "97753bb3",
   "metadata": {},
   "source": [
    "<font face=\"vazir\" color=\"#0099cc\">\n",
    "Section 3: Notification Analysis\n",
    "</font>\n",
    "</h2>\n",
    "In this section, we want to determine which notification has been the most successful in getting clicked and on which day of the week it received the most clicks.\n",
    "\n",
    "First, assume that among all notifications, the notification with ID 1100 has the highest click-through rate. In this case, notification 1100 is the most successful notification. Now assume that this notification received 100 clicks on Saturday, 130 clicks on Sunday, 30 clicks on Monday, 90 clicks on Tuesday, 45 clicks on Wednesday, 4 clicks on Thursday, and no clicks on Friday. In this case, Sunday is the day on which notification 1100 received the most clicks.\n",
    "\n",
    "Therefore, the tuple <code>tuple_notifid_day</code> should be set as follows:\n",
    "```python\n",
    "tuple_notifid_day = (1100, 'Sunday')\n",
    "```\n",
    "Also, note that the names of the days should be in English. Like in the example above, use \"Sunday\" for Sunday, \"Monday\" for Monday, and so on."
   ]
  },
  {
   "cell_type": "code",
   "execution_count": 5,
   "id": "0a23361b",
   "metadata": {},
   "outputs": [
    {
     "data": {
      "text/plain": [
       "(79, 'Monday')"
      ]
     },
     "execution_count": 5,
     "metadata": {},
     "output_type": "execute_result"
    }
   ],
   "source": [
    "# TODO: find (id, day)\n",
    "week_days = ['Monday', 'Tuesday', 'Wednesday', 'Thursday', 'Friday', 'Saturday', 'Sunday']\n",
    "\n",
    "# find id\n",
    "df2 = df.copy()\n",
    "# Convert 'action' column to binary: 1 if 'C' (click), 0 otherwise\n",
    "df2['action'] = df2['action'].apply(lambda x: 1 if x == 'C' else 0)\n",
    "# Add a 'count' column with value 1 for each row\n",
    "df2['count'] = 1\n",
    "df2 = df2.groupby('notification_id').sum()\n",
    "# Calculate the click-through rate and find the notification_id with the highest rate\n",
    "ind = (df2['action'] / df2['count']).sort_values()[-1:].index.item()\n",
    "\n",
    "# find day\n",
    "df2 = df.copy()\n",
    "# Convert the 'date' column to weekday index (Monday = 0, Sunday = 6)\n",
    "df2['date'] = (df2['date'].apply(lambda x: x.weekday()))\n",
    "df2['action'] = df2['action'].apply(lambda x: 1 if x == 'C' else 0)\n",
    "# Find the weekday index with the highest number of clicks\n",
    "day = df2[df2['notification_id'] == ind].groupby('date').sum()['action'].sort_values()[-1:].index.item()\n",
    "\n",
    "tuple_notifid_day = (ind, week_days[day])\n",
    "tuple_notifid_day"
   ]
  },
  {
   "cell_type": "markdown",
   "id": "11e8e53a",
   "metadata": {},
   "source": [
    "<font face=\"vazir\" color=\"#0099cc\">\n",
    "Section 4: Day Analysis\n",
    "</font>\n",
    "</h2>\n",
    "The goal of Section 4 is to determine on which days of the month the click-through rate of notifications is the highest.\n",
    "\n",
    "In simpler terms, group the dataframe by the day the notification was sent; then calculate the click-through rate of notifications for each day. Finally, save the day with the highest rate along with its rate in a tuple named <code>tuple_day_rate</code>.\n",
    "\n",
    "For example, if the 15th day has a rate of 0.85 (the highest rate among all 30 days), set the <code>tuple_day_rate</code> as follows:\n",
    "```python\n",
    "tuple_day_rate = (15, 0.85)\n",
    "```"
   ]
  },
  {
   "cell_type": "code",
   "execution_count": 6,
   "id": "f8a7c648",
   "metadata": {},
   "outputs": [
    {
     "data": {
      "text/plain": [
       "(22, 0.26486013986013984)"
      ]
     },
     "execution_count": 6,
     "metadata": {},
     "output_type": "execute_result"
    }
   ],
   "source": [
    "# TODO: (day, click rate)\n",
    "\n",
    "# Calculate click-through rate per day\n",
    "c_notif_per_day = df[df['action'] == 'C'].groupby(df['date'].dt.day)['notification_id'].count() / df.groupby(df['date'].dt.day)['notification_id'].count() \n",
    "\n",
    "# Find the day with the highest click-through rate\n",
    "day = c_notif_per_day.idxmax()\n",
    "\n",
    "# Get the maximum click-through rate\n",
    "click_rate = c_notif_per_day.max()\n",
    "\n",
    "tuple_day_rate = (day, click_rate)\n",
    "tuple_day_rate"
   ]
  }
 ],
 "metadata": {
  "kernelspec": {
   "display_name": "Python 3 (ipykernel)",
   "language": "python",
   "name": "python3"
  },
  "language_info": {
   "codemirror_mode": {
    "name": "ipython",
    "version": 3
   },
   "file_extension": ".py",
   "mimetype": "text/x-python",
   "name": "python",
   "nbconvert_exporter": "python",
   "pygments_lexer": "ipython3",
   "version": "3.9.12"
  }
 },
 "nbformat": 4,
 "nbformat_minor": 5
}
